{
 "cells": [
  {
   "cell_type": "markdown",
   "id": "30afcdcd",
   "metadata": {},
   "source": [
    "**DATA PROCESSING**: Only the first 30 frames"
   ]
  },
  {
   "cell_type": "markdown",
   "id": "b71d11be",
   "metadata": {},
   "source": [
    "**prepare data all frames**: it will generate the matrix X and Y where X are the inputs: $\\mathbb{R}^{5 \\times N_c}$ and Y are $\\xi(t,x,y)$: outputs $\\mathbb{R}^{250 \\times 250 \\times 30 \\times N_c}$: such that $N_c$: is the number of combinations available"
   ]
  },
  {
   "cell_type": "code",
   "execution_count": 1,
   "id": "ab3160f5",
   "metadata": {},
   "outputs": [
    {
     "ename": "ModuleNotFoundError",
     "evalue": "No module named 'tqdm'",
     "output_type": "error",
     "traceback": [
      "\u001b[31m---------------------------------------------------------------------------\u001b[39m",
      "\u001b[31mModuleNotFoundError\u001b[39m                       Traceback (most recent call last)",
      "\u001b[36mCell\u001b[39m\u001b[36m \u001b[39m\u001b[32mIn[1]\u001b[39m\u001b[32m, line 4\u001b[39m\n\u001b[32m      2\u001b[39m \u001b[38;5;28;01mimport\u001b[39;00m\u001b[38;5;250m \u001b[39m\u001b[34;01mos\u001b[39;00m\n\u001b[32m      3\u001b[39m \u001b[38;5;28;01mimport\u001b[39;00m\u001b[38;5;250m \u001b[39m\u001b[34;01mjson\u001b[39;00m\n\u001b[32m----> \u001b[39m\u001b[32m4\u001b[39m \u001b[38;5;28;01mfrom\u001b[39;00m\u001b[38;5;250m \u001b[39m\u001b[34;01mtqdm\u001b[39;00m\u001b[38;5;250m \u001b[39m\u001b[38;5;28;01mimport\u001b[39;00m tqdm\n\u001b[32m      6\u001b[39m \u001b[38;5;66;03m# === Configuration ===\u001b[39;00m\n\u001b[32m      7\u001b[39m DATASET_DIR = \u001b[33mr\u001b[39m\u001b[33m\"\u001b[39m\u001b[33mC:\u001b[39m\u001b[33m\\\u001b[39m\u001b[33mUsers\u001b[39m\u001b[33m\\\u001b[39m\u001b[33mAli\u001b[39m\u001b[33m\\\u001b[39m\u001b[33mDesktop\u001b[39m\u001b[33m\\\u001b[39m\u001b[33m798 Project\u001b[39m\u001b[33m\\\u001b[39m\u001b[33mdataset500\u001b[39m\u001b[33m\"\u001b[39m\n",
      "\u001b[31mModuleNotFoundError\u001b[39m: No module named 'tqdm'"
     ]
    }
   ],
   "source": [
    "import numpy as np\n",
    "import os\n",
    "import json\n",
    "from tqdm import tqdm\n",
    "\n",
    "# === Configuration ===\n",
    "DATASET_DIR = r\"C:\\Users\\Ali\\Desktop\\798 Project\\dataset500\"\n",
    "SAVE_DIR = DATASET_DIR\n",
    "\n",
    "input_keys = [\"dT0\", \"c\", \"N\", \"theta_deg\", \"seed_radius\"]\n",
    "\n",
    "# === Load metadata ===\n",
    "metadata_path = os.path.join(DATASET_DIR, \"metadata.json\")\n",
    "with open(metadata_path, \"r\") as f:\n",
    "    metadata = json.load(f)\n",
    "\n",
    "X_list = []\n",
    "Y_list = []\n",
    "\n",
    "print(\"📚 Preparing full evolution data...\")\n",
    "\n",
    "for entry in tqdm(metadata):\n",
    "    # 1. Build input vector\n",
    "    x_vec = [entry[k] for k in input_keys]\n",
    "    X_list.append(x_vec)\n",
    "\n",
    "    # 2. Load full ξ series (all frames)\n",
    "    xi_path = os.path.join(DATASET_DIR, entry[\"filename_xi\"])\n",
    "    xi_series = np.load(xi_path)[:30]  # Take only first 30 frames\n",
    "    Y_list.append(xi_series)\n",
    "\n",
    "# === Stack into arrays ===\n",
    "X = np.array(X_list)  # shape (253, 5)\n",
    "Y = np.stack(Y_list)  # shape (253, 41, 250, 250)\n",
    "\n",
    "print(f\"✅ X shape: {X.shape}\")\n",
    "print(f\"✅ Y shape: {Y.shape}\")\n",
    "\n",
    "# === Save ===\n",
    "np.save(os.path.join(SAVE_DIR, \"X_full.npy\"), X)\n",
    "np.save(os.path.join(SAVE_DIR, \"Y_full.npy\"), Y)\n",
    "\n",
    "print(f\"✅ Full evolution data saved to {SAVE_DIR}\")\n"
   ]
  },
  {
   "cell_type": "markdown",
   "id": "181670d3",
   "metadata": {},
   "source": [
    "**DATA SPLITTING**"
   ]
  },
  {
   "cell_type": "code",
   "execution_count": null,
   "id": "76b13a24",
   "metadata": {},
   "outputs": [],
   "source": [
    "import numpy as np\n",
    "from sklearn.model_selection import train_test_split\n",
    "\n",
    "# === Load full dataset ===\n",
    "X = np.load(r\"C:\\Users\\Ali\\Desktop\\798 Project\\dataset500\\Full Data Evolution 30\\X_full.npy\")\n",
    "Y = np.load(r\"C:\\Users\\Ali\\Desktop\\798 Project\\dataset500\\Full Data Evolution 30\\Y_full.npy\")\n",
    "\n",
    "# === First split: Train+Val vs Test (85% / 15%) ===\n",
    "X_trainval, X_test, Y_trainval, Y_test = train_test_split(X, Y, test_size=0.15, random_state=42)\n",
    "\n",
    "# === Second split: Train vs Val (82% / 18% inside trainval) ===\n",
    "# So overall it's 70/15/15\n",
    "X_train, X_val, Y_train, Y_val = train_test_split(X_trainval, Y_trainval, test_size=0.1765, random_state=42)\n",
    "\n",
    "# === Save splits ===\n",
    "np.save(r\"C:\\Users\\Ali\\Desktop\\798 Project\\X_train.npy\", X_train)\n",
    "np.save(r\"C:\\Users\\Ali\\Desktop\\798 Project\\Y_train.npy\", Y_train)\n",
    "\n",
    "np.save(r\"C:\\Users\\Ali\\Desktop\\798 Project\\X_val.npy\", X_val)\n",
    "np.save(r\"C:\\Users\\Ali\\Desktop\\798 Project\\Y_val.npy\", Y_val)\n",
    "\n",
    "np.save(r\"C:\\Users\\Ali\\Desktop\\798 Project\\X_test.npy\", X_test)\n",
    "np.save(r\"C:\\Users\\Ali\\Desktop\\798 Project\\Y_test.npy\", Y_test)\n",
    "\n",
    "print(f\"✅ Done! Split sizes:\")\n",
    "print(f\"Training set: {X_train.shape[0]}\")\n",
    "print(f\"Validation set: {X_val.shape[0]}\")\n",
    "print(f\"Test set: {X_test.shape[0]}\")\n"
   ]
  },
  {
   "cell_type": "markdown",
   "id": "e912be54",
   "metadata": {},
   "source": [
    "**DATA SET LOADER:** loads data for training! next file is CNN Training file. "
   ]
  },
  {
   "cell_type": "code",
   "execution_count": null,
   "id": "b4721352",
   "metadata": {},
   "outputs": [],
   "source": [
    "import torch\n",
    "from torch.utils.data import Dataset, DataLoader\n",
    "import numpy as np\n",
    "import os\n",
    "\n",
    "# === Configuration ===\n",
    "DATASET_DIR = rDATASET_DIR = r\"C:\\Users\\Ali\\Desktop\\798 Project\\Splitting 30 Frames\"\n",
    " # Adjust if needed\n",
    "\n",
    "class DendriteDataset(Dataset):\n",
    "    def __init__(self, split=\"train\"):\n",
    "        assert split in [\"train\", \"val\", \"test\"], \"Split must be 'train', 'val', or 'test'.\"\n",
    "\n",
    "        self.X = np.load(os.path.join(DATASET_DIR, f\"X_{split}.npy\"))\n",
    "        self.Y = np.load(os.path.join(DATASET_DIR, f\"Y_{split}.npy\"))\n",
    "\n",
    "        self.X = torch.tensor(self.X, dtype=torch.float32)\n",
    "        self.Y = torch.tensor(self.Y, dtype=torch.float32)\n",
    "\n",
    "    def __len__(self):\n",
    "        return len(self.X)\n",
    "\n",
    "    def __getitem__(self, idx):\n",
    "        x = self.X[idx]           # Shape: (5,)\n",
    "        y = self.Y[idx]           # Shape: (41, 250, 250)\n",
    "        return x, y\n",
    "\n",
    "# === Usage example ===\n",
    "if __name__ == \"__main__\":\n",
    "    # Create datasets\n",
    "    train_dataset = DendriteDataset(split=\"train\")\n",
    "    val_dataset = DendriteDataset(split=\"val\")\n",
    "    test_dataset = DendriteDataset(split=\"test\")\n",
    "\n",
    "    # Create dataloaders\n",
    "    train_loader = DataLoader(train_dataset, batch_size=8, shuffle=True)\n",
    "    val_loader = DataLoader(val_dataset, batch_size=8, shuffle=False)\n",
    "    test_loader = DataLoader(test_dataset, batch_size=8, shuffle=False)\n",
    "\n",
    "    # Quick check\n",
    "    for batch_idx, (inputs, targets) in enumerate(train_loader):\n",
    "        print(f\"Input batch shape: {inputs.shape}\")   # Should be (batch_size, 5)\n",
    "        print(f\"Target batch shape: {targets.shape}\") # Should be (batch_size, 41, 250, 250)\n",
    "        break\n"
   ]
  }
 ],
 "metadata": {
  "kernelspec": {
   "display_name": "Python 3",
   "language": "python",
   "name": "python3"
  },
  "language_info": {
   "codemirror_mode": {
    "name": "ipython",
    "version": 3
   },
   "file_extension": ".py",
   "mimetype": "text/x-python",
   "name": "python",
   "nbconvert_exporter": "python",
   "pygments_lexer": "ipython3",
   "version": "3.11.9"
  }
 },
 "nbformat": 4,
 "nbformat_minor": 5
}
