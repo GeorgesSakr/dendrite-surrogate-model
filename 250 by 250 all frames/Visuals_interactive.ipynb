{
 "cells": [
  {
   "cell_type": "code",
   "execution_count": 3,
   "id": "29c7c7a6",
   "metadata": {},
   "outputs": [],
   "source": [
    "import torch\n",
    "import torch.nn as nn\n",
    "\n",
    "class DeeperCNN(nn.Module):\n",
    "    def __init__(self):\n",
    "        super(DeeperCNN, self).__init__()\n",
    "\n",
    "        self.fc1 = nn.Linear(5, 128)\n",
    "        self.fc2 = nn.Linear(128, 512)\n",
    "        self.fc3 = nn.Linear(512, 30 * 64 * 64)\n",
    "\n",
    "        self.conv1 = nn.Conv2d(30, 64, kernel_size=3, padding=1)\n",
    "        self.conv2 = nn.Conv2d(64, 64, kernel_size=3, padding=1)\n",
    "        self.conv3 = nn.Conv2d(64, 32, kernel_size=3, padding=1)\n",
    "        self.conv4 = nn.Conv2d(32, 32, kernel_size=3, padding=1)\n",
    "        self.conv5 = nn.Conv2d(32, 30, kernel_size=3, padding=1)\n",
    "\n",
    "        self.upsample = nn.Upsample(size=(250, 250), mode='bilinear', align_corners=True)\n",
    "\n",
    "    def forward(self, x, capture_features=False):\n",
    "        features = []\n",
    "\n",
    "        # — Global MLP projection to (batch,30*64*64)\n",
    "        x = F.relu(self.fc1(x))\n",
    "        x = F.relu(self.fc2(x))\n",
    "        x = self.fc3(x)\n",
    "        x = x.view(-1,30,64,64)\n",
    "\n",
    "        # — Capture the *true* time‐frames (coarse)\n",
    "        if capture_features:\n",
    "            features.append(x.clone().detach())\n",
    "\n",
    "        # — Then your convolutions (abstract feature‐maps)\n",
    "        x = F.relu(self.conv1(x))\n",
    "        if capture_features: features.append(x.clone().detach())\n",
    "\n",
    "        x = F.relu(self.conv2(x))\n",
    "        if capture_features: features.append(x.clone().detach())\n",
    "\n",
    "        x = F.relu(self.conv3(x))\n",
    "        if capture_features: features.append(x.clone().detach())\n",
    "\n",
    "        x = F.relu(self.conv4(x))\n",
    "        if capture_features: features.append(x.clone().detach())\n",
    "\n",
    "        x = F.relu(self.conv5(x))\n",
    "        if capture_features: features.append(x.clone().detach())\n",
    "\n",
    "        # — Upsample\n",
    "        x = self.upsample(x)\n",
    "\n",
    "        if capture_features:\n",
    "            return x, features\n",
    "        else:\n",
    "            return x\n",
    "\n"
   ]
  },
  {
   "cell_type": "code",
   "execution_count": null,
   "id": "557eefc7",
   "metadata": {},
   "outputs": [
    {
     "data": {
      "application/vnd.jupyter.widget-view+json": {
       "model_id": "bdb6a7cc7d4e40b4b662ed60a6674f31",
       "version_major": 2,
       "version_minor": 0
      },
      "text/plain": [
       "interactive(children=(FloatSlider(value=-0.3, description='ΔT₀', max=0.0, min=-1.0, step=0.01), FloatSlider(va…"
      ]
     },
     "metadata": {},
     "output_type": "display_data"
    },
    {
     "data": {
      "text/plain": [
       "<function __main__.predict_and_plot(ΔT0, c, N, θ, r0)>"
      ]
     },
     "execution_count": 4,
     "metadata": {},
     "output_type": "execute_result"
    }
   ],
   "source": [
    "# === Imports ===\n",
    "import torch\n",
    "import torch.nn.functional as F        # ← add this line\n",
    "import numpy as np\n",
    "import matplotlib.pyplot as plt\n",
    "from ipywidgets import interact, FloatSlider, IntSlider\n",
    "from IPython.display import display\n",
    "\n",
    "# === Model Import ===\n",
    "\n",
    "# === Configuration ===\n",
    "MODEL_PATH = r\"C:\\Users\\Ali\\Desktop\\798 Project\\visualization_samples_30frames_CNN_DEEP\\best_model_30frames_200Epochs.pth\"\n",
    "DEVICE = torch.device(\"cuda\" if torch.cuda.is_available() else \"cpu\")\n",
    "\n",
    "# === Load Model ===\n",
    "model = DeeperCNN().to(DEVICE)  \n",
    "model.load_state_dict(torch.load(MODEL_PATH, map_location=DEVICE))\n",
    "model.eval()\n",
    "\n",
    "# === Metrics Function ===\n",
    "def compute_metrics(final_frame):\n",
    "    solid_fraction = final_frame.mean()\n",
    "    gx, gy = np.gradient(final_frame)\n",
    "    grad_mag = np.sqrt(gx**2 + gy**2)\n",
    "    branchiness = grad_mag.sum()\n",
    "    return solid_fraction, branchiness\n",
    "\n",
    "# === Inference + Plotting Function ===\n",
    "def predict_and_plot(ΔT0, c, N, θ, r0):\n",
    "    inp = torch.tensor([[ΔT0, c, N, θ, r0]], dtype=torch.float32).to(DEVICE)\n",
    "    with torch.no_grad():\n",
    "        pred = model(inp)                # [1, 30, H, W]\n",
    "        final_frame = pred[0, -1].cpu().numpy()\n",
    "\n",
    "    sf, br = compute_metrics(final_frame)\n",
    "\n",
    "    plt.figure(figsize=(5, 5))\n",
    "    plt.imshow(final_frame, cmap='plasma', origin='lower', vmin=0, vmax=1)\n",
    "    plt.title(\n",
    "        f\"ΔT₀={ΔT0:.2f}, c={c:.3f}, N={N}, θ={int(θ)}°, r₀={r0:.3f}\\n\"\n",
    "        f\"Solid Fraction = {sf:.3f}, Branchiness = {br:.1f}\"\n",
    "    )\n",
    "    plt.axis('off')\n",
    "    plt.tight_layout()\n",
    "    plt.show()\n",
    "\n",
    "# === Interactive Sliders ===\n",
    "interact(\n",
    "    predict_and_plot,\n",
    "    ΔT0=FloatSlider(min=-1, max=0, step=0.01, value=-0.3, description='ΔT₀'),\n",
    "    c=FloatSlider(min=0.01, max=0.1, step=0.005, value=0.03, description='c'),\n",
    "    N=IntSlider(min=1, max=10, step=1, value=5, description='N'),\n",
    "    θ=FloatSlider(min=0, max=90, step=1, value=45, description='θ'),\n",
    "    r0=FloatSlider(min=0.05, max=0.2, step=0.005, value=0.2, description='r₀')\n",
    ")\n",
    "\n",
    "#   param_grid = {\n",
    " #       \"dT0\": [-0.2, -0.4, -0.6, -0.8],\n",
    "  #      \"c\": [0.005, 0.02, 0.05],\n",
    "   ##     \"N\": [4, 6, 8],\n",
    "    #    \"theta_deg\": [0, 15, 30, 45],\n",
    "    #   \"seed_radius\": [0.08, 0.1, 0.15]\n",
    "    #}\"\n"
   ]
  }
 ],
 "metadata": {
  "kernelspec": {
   "display_name": "Python 3",
   "language": "python",
   "name": "python3"
  },
  "language_info": {
   "codemirror_mode": {
    "name": "ipython",
    "version": 3
   },
   "file_extension": ".py",
   "mimetype": "text/x-python",
   "name": "python",
   "nbconvert_exporter": "python",
   "pygments_lexer": "ipython3",
   "version": "3.11.9"
  }
 },
 "nbformat": 4,
 "nbformat_minor": 5
}
